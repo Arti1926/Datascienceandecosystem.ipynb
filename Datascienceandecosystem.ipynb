{
 "cells": [
  {
   "cell_type": "markdown",
   "id": "dae8c15a-35d6-4f78-b821-c40269a6ab23",
   "metadata": {},
   "source": [
    "## Data Science Tools and Ecosystem"
   ]
  },
  {
   "cell_type": "markdown",
   "id": "2df6f8ce-0b40-4db7-ac4e-eb64031a3092",
   "metadata": {},
   "source": [
    "In this notebook, Data Science Tools and Ecosystems are summarized."
   ]
  },
  {
   "cell_type": "markdown",
   "id": "6f1726f4-d86d-48be-8216-20f54c85c57b",
   "metadata": {},
   "source": [
    "__Objectives__\n",
    "- Solve math problems\n",
    "- Create Columns with headers\n",
    "- Make a list of popular Data Science languages\n",
    "- Make a seperate list of libraries used by Data Scientists"
   ]
  },
  {
   "cell_type": "markdown",
   "id": "c4750182-9c4f-41dd-81a6-4034fb1252d7",
   "metadata": {},
   "source": [
    "Popular languages that Data Scientists use include:\n",
    "1. Python\n",
    "2. R\n",
    "3. Java\n",
    "4. SQL"
   ]
  },
  {
   "cell_type": "markdown",
   "id": "e14889a1-5c8f-4ee9-bea2-6bfcbac94330",
   "metadata": {},
   "source": [
    "Some of the commonly used libraries that Data Scientists use are:\n",
    "1. NumPy\n",
    "2. Matplotlib\n",
    "3. Pandas\n",
    "4. TensorFlow"
   ]
  },
  {
   "cell_type": "markdown",
   "id": "05737f36-6844-45ff-88e6-751aa41a9abf",
   "metadata": {},
   "source": [
    "| Data Science Tools   |\n",
    "|----------------------|\n",
    "| Jupyter Notebook      |\n",
    "| RStudio               |\n",
    "| Apache Zeppelin       |\n"
   ]
  },
  {
   "cell_type": "markdown",
   "id": "8b617d01-60ef-485b-83da-2861e73fd419",
   "metadata": {},
   "source": [
    "### Below are a few examples of evaluating arithmetic expression in Python"
   ]
  },
  {
   "cell_type": "code",
   "execution_count": 23,
   "id": "646ebd02-5e4f-46df-904c-34faaa2428df",
   "metadata": {},
   "outputs": [
    {
     "data": {
      "text/plain": [
       "17"
      ]
     },
     "execution_count": 23,
     "metadata": {},
     "output_type": "execute_result"
    }
   ],
   "source": [
    "# This is a simple arithmetic expression to multiply then add integers\n",
    "(3*4)+5"
   ]
  },
  {
   "cell_type": "code",
   "execution_count": 24,
   "id": "35f6c742-65ab-4a31-b5eb-6d6fcc0dfb86",
   "metadata": {},
   "outputs": [
    {
     "name": "stdout",
     "output_type": "stream",
     "text": [
      "3.3333333333333335\n"
     ]
    }
   ],
   "source": [
    "# This will convert 200 minutes to hours by dividing by 60\n",
    "minutes = 200 / 60\n",
    "print(minutes)"
   ]
  },
  {
   "cell_type": "markdown",
   "id": "9263ee69-f4aa-4f17-9b1c-70a5e1e8d13c",
   "metadata": {},
   "source": [
    "## Author\n",
    "Aaron Christiansen"
   ]
  }
 ],
 "metadata": {
  "kernelspec": {
   "display_name": "Python 3 (ipykernel)",
   "language": "python",
   "name": "python3"
  },
  "language_info": {
   "codemirror_mode": {
    "name": "ipython",
    "version": 3
   },
   "file_extension": ".py",
   "mimetype": "text/x-python",
   "name": "python",
   "nbconvert_exporter": "python",
   "pygments_lexer": "ipython3",
   "version": "3.11.9"
  }
 },
 "nbformat": 4,
 "nbformat_minor": 5
}
